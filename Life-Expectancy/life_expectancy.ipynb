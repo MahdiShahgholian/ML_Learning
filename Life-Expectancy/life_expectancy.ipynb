{
 "cells": [
  {
   "cell_type": "markdown",
   "id": "44d5ed16-c0c4-4e5e-afdd-8cd8a23e70c3",
   "metadata": {
    "tags": []
   },
   "source": [
    "<h1 align=center style=\"line-height:200%;font-family:vazir;color:#0099cc\">\n",
    "<font face=\"vazir\" color=\"#0099cc\">\n",
    "Life Expectancy\n",
    "</font>\n",
    "</h1>"
   ]
  },
  {
   "cell_type": "markdown",
   "id": "6e340df8-b8c8-41fc-8ca3-e3dbc55b5316",
   "metadata": {},
   "source": [
    "<p dir=rtl style=\"direction: rtl;text-align: justify;line-height:200%;font-family:vazir;font-size:medium\">\n",
    "<font face=\"vazir\" size=3>\n",
    "    هدف از این پروژه بررسی شاخص‌های بهداشتی، مالی و کشوری برای محاسبه امید به زندگی در کشورها می‌باشد. از دیتاست <code>life_expectancy.csv</code> برای محاسبه امید به زندگی بهره برده شده که ویژگی های این دیتاست به صورت زیر می‌باشد.    \n",
    "    \n",
    "       \n",
    "|ستون|توضیحات|\n",
    "|:------:|:---:|\n",
    "|<code>Country</code>|کشور مورد مطالعه|\n",
    "|<code>Year</code>|سال|\n",
    "|<code>Status</code>|وضعیت توسعه‌یافتگی کشور|\n",
    "|<code>Population</code>|جمعیت کشور|\n",
    "|<code>Hepatitis B</code>|درصد افراد نهایتاً یک ساله‌ای که در برابر هپاتیت ب ایمن شده‌اند|\n",
    "|<code>Measles</code>|تعداد موارد مبتلا به سرخک گزارش شده در هر ۱۰۰۰ نفر|\n",
    "|<code>Polio</code>|درصد افراد نهایتاً یک ساله‌ای که در برابر فلج اطفال ایمن شده‌اند|\n",
    "|<code>Diphtheria</code>|درصد افراد نهایتاً یک ساله‌ای که در برابر دیفتری ایمن شده‌اند|\n",
    "|<code>HIV/AIDS</code>|تعداد فوتی‌های ناشی از ایدز افراد نهایتاً ۴ ساله‌ای که زنده به دنیا آمده‌اند در هر ۱۰۰۰ نفر|\n",
    "|<code>infant deaths</code>|تعداد فوتی‌های نوزادان در هر ۱۰۰۰ نفر|\n",
    "|<code>under-five deaths</code>|تعداد فوتی‌های افراد نهایتاً ۵ ساله در هر ۱۰۰۰ نفر|\n",
    "|<code>Total expenditure</code>|نسبت هزینه‌های درمانی-بهداشتی دولت به کل هزینه‌های دولت بر حسب درصد|\n",
    "|<code>GDP</code>|تولید ناخالص ملی بر حسب دلار امریکا|\n",
    "|<code>BMI</code>|میانگین شاخص توده بدنی کل جمعیت کشور|\n",
    "|<code>thinness 1-19 years</code>|میزان شیوع لاغری میان افراد نهایتاً ۱۹ ساله بر حسب درصد|\n",
    "|<code>Alcohol</code>|میزان لیتر مصرف الکل بین افراد بیشتر از ۱۵ سال|\n",
    "|<code>Schooling</code>|تعداد سالی که افراد تحصیل می‌کنند|\n",
    "|<code>Life expectancy</code>|امید به زندگی یا متوسط طول عمر|\n",
    "    \n",
    "</font>\n",
    "</p>"
   ]
  },
  {
   "cell_type": "markdown",
   "id": "d4154c67-bfee-4a81-ba3c-6769a40adf4a",
   "metadata": {},
   "source": [
    "<h2 align=right style=\"line-height:200%;font-family:vazir;color:#0099cc\">\n",
    "<font face=\"vazir\" color=\"#0099cc\">\n",
    "کتابخانه‌ها\n",
    "</font>\n",
    "</h2>"
   ]
  },
  {
   "cell_type": "code",
   "execution_count": 44,
   "id": "308d2a12-99b5-4ae1-9cbf-ecdf19b3400d",
   "metadata": {
    "tags": []
   },
   "outputs": [],
   "source": [
    "import pandas as pd\n",
    "import numpy as np\n",
    "from sklearn.model_selection import train_test_split\n",
    "from sklearn.preprocessing import StandardScaler\n",
    "from sklearn.linear_model import LinearRegression\n",
    "from sklearn.metrics import r2_score\n",
    "from sklearn.preprocessing import PolynomialFeatures"
   ]
  },
  {
   "cell_type": "markdown",
   "id": "7b51999c-1018-48de-bf19-b66198a0124a",
   "metadata": {},
   "source": [
    "<h2 align=right style=\"line-height:200%;font-family:vazir;color:#0099cc\">\n",
    "<font face=\"vazir\" color=\"#0099cc\">\n",
    "خواندن دیتاست\n",
    "</font>\n",
    "</h2>"
   ]
  },
  {
   "cell_type": "code",
   "execution_count": 25,
   "id": "1b313d57-b5fc-4c5d-b68b-90224945398f",
   "metadata": {
    "tags": []
   },
   "outputs": [
    {
     "data": {
      "text/html": [
       "<div>\n",
       "<style scoped>\n",
       "    .dataframe tbody tr th:only-of-type {\n",
       "        vertical-align: middle;\n",
       "    }\n",
       "\n",
       "    .dataframe tbody tr th {\n",
       "        vertical-align: top;\n",
       "    }\n",
       "\n",
       "    .dataframe thead th {\n",
       "        text-align: right;\n",
       "    }\n",
       "</style>\n",
       "<table border=\"1\" class=\"dataframe\">\n",
       "  <thead>\n",
       "    <tr style=\"text-align: right;\">\n",
       "      <th></th>\n",
       "      <th>Country</th>\n",
       "      <th>Year</th>\n",
       "      <th>Status</th>\n",
       "      <th>Population</th>\n",
       "      <th>Hepatitis B</th>\n",
       "      <th>Measles</th>\n",
       "      <th>Polio</th>\n",
       "      <th>Diphtheria</th>\n",
       "      <th>HIV/AIDS</th>\n",
       "      <th>infant deaths</th>\n",
       "      <th>under-five deaths</th>\n",
       "      <th>Total expenditure</th>\n",
       "      <th>GDP</th>\n",
       "      <th>BMI</th>\n",
       "      <th>thinness  1-19 years</th>\n",
       "      <th>Alcohol</th>\n",
       "      <th>Schooling</th>\n",
       "      <th>Life expectancy</th>\n",
       "    </tr>\n",
       "  </thead>\n",
       "  <tbody>\n",
       "    <tr>\n",
       "      <th>0</th>\n",
       "      <td>Afghanistan</td>\n",
       "      <td>2015</td>\n",
       "      <td>Developing</td>\n",
       "      <td>33736494.0</td>\n",
       "      <td>65.0</td>\n",
       "      <td>1154</td>\n",
       "      <td>6.0</td>\n",
       "      <td>65.0</td>\n",
       "      <td>0.1</td>\n",
       "      <td>62</td>\n",
       "      <td>83</td>\n",
       "      <td>8.16</td>\n",
       "      <td>584.259210</td>\n",
       "      <td>19.1</td>\n",
       "      <td>17.2</td>\n",
       "      <td>0.01</td>\n",
       "      <td>10.1</td>\n",
       "      <td>65.0</td>\n",
       "    </tr>\n",
       "    <tr>\n",
       "      <th>1</th>\n",
       "      <td>Afghanistan</td>\n",
       "      <td>2014</td>\n",
       "      <td>Developing</td>\n",
       "      <td>327582.0</td>\n",
       "      <td>62.0</td>\n",
       "      <td>492</td>\n",
       "      <td>58.0</td>\n",
       "      <td>62.0</td>\n",
       "      <td>0.1</td>\n",
       "      <td>64</td>\n",
       "      <td>86</td>\n",
       "      <td>8.18</td>\n",
       "      <td>612.696514</td>\n",
       "      <td>18.6</td>\n",
       "      <td>17.5</td>\n",
       "      <td>0.01</td>\n",
       "      <td>10.0</td>\n",
       "      <td>59.9</td>\n",
       "    </tr>\n",
       "    <tr>\n",
       "      <th>2</th>\n",
       "      <td>Afghanistan</td>\n",
       "      <td>2013</td>\n",
       "      <td>Developing</td>\n",
       "      <td>31731688.0</td>\n",
       "      <td>64.0</td>\n",
       "      <td>430</td>\n",
       "      <td>62.0</td>\n",
       "      <td>64.0</td>\n",
       "      <td>0.1</td>\n",
       "      <td>66</td>\n",
       "      <td>89</td>\n",
       "      <td>8.13</td>\n",
       "      <td>631.744976</td>\n",
       "      <td>18.1</td>\n",
       "      <td>17.7</td>\n",
       "      <td>0.01</td>\n",
       "      <td>9.9</td>\n",
       "      <td>59.9</td>\n",
       "    </tr>\n",
       "    <tr>\n",
       "      <th>3</th>\n",
       "      <td>Afghanistan</td>\n",
       "      <td>2012</td>\n",
       "      <td>Developing</td>\n",
       "      <td>3696958.0</td>\n",
       "      <td>67.0</td>\n",
       "      <td>2787</td>\n",
       "      <td>67.0</td>\n",
       "      <td>67.0</td>\n",
       "      <td>0.1</td>\n",
       "      <td>69</td>\n",
       "      <td>93</td>\n",
       "      <td>8.52</td>\n",
       "      <td>669.959000</td>\n",
       "      <td>17.6</td>\n",
       "      <td>17.9</td>\n",
       "      <td>0.01</td>\n",
       "      <td>9.8</td>\n",
       "      <td>59.5</td>\n",
       "    </tr>\n",
       "    <tr>\n",
       "      <th>4</th>\n",
       "      <td>Afghanistan</td>\n",
       "      <td>2011</td>\n",
       "      <td>Developing</td>\n",
       "      <td>2978599.0</td>\n",
       "      <td>68.0</td>\n",
       "      <td>3013</td>\n",
       "      <td>68.0</td>\n",
       "      <td>68.0</td>\n",
       "      <td>0.1</td>\n",
       "      <td>71</td>\n",
       "      <td>97</td>\n",
       "      <td>7.87</td>\n",
       "      <td>63.537231</td>\n",
       "      <td>17.2</td>\n",
       "      <td>18.2</td>\n",
       "      <td>0.01</td>\n",
       "      <td>9.5</td>\n",
       "      <td>59.2</td>\n",
       "    </tr>\n",
       "    <tr>\n",
       "      <th>...</th>\n",
       "      <td>...</td>\n",
       "      <td>...</td>\n",
       "      <td>...</td>\n",
       "      <td>...</td>\n",
       "      <td>...</td>\n",
       "      <td>...</td>\n",
       "      <td>...</td>\n",
       "      <td>...</td>\n",
       "      <td>...</td>\n",
       "      <td>...</td>\n",
       "      <td>...</td>\n",
       "      <td>...</td>\n",
       "      <td>...</td>\n",
       "      <td>...</td>\n",
       "      <td>...</td>\n",
       "      <td>...</td>\n",
       "      <td>...</td>\n",
       "      <td>...</td>\n",
       "    </tr>\n",
       "    <tr>\n",
       "      <th>2843</th>\n",
       "      <td>Zimbabwe</td>\n",
       "      <td>2004</td>\n",
       "      <td>Developing</td>\n",
       "      <td>12777511.0</td>\n",
       "      <td>68.0</td>\n",
       "      <td>31</td>\n",
       "      <td>67.0</td>\n",
       "      <td>65.0</td>\n",
       "      <td>33.6</td>\n",
       "      <td>27</td>\n",
       "      <td>42</td>\n",
       "      <td>7.13</td>\n",
       "      <td>454.366654</td>\n",
       "      <td>27.1</td>\n",
       "      <td>9.4</td>\n",
       "      <td>4.36</td>\n",
       "      <td>9.2</td>\n",
       "      <td>44.3</td>\n",
       "    </tr>\n",
       "    <tr>\n",
       "      <th>2844</th>\n",
       "      <td>Zimbabwe</td>\n",
       "      <td>2003</td>\n",
       "      <td>Developing</td>\n",
       "      <td>12633897.0</td>\n",
       "      <td>7.0</td>\n",
       "      <td>998</td>\n",
       "      <td>7.0</td>\n",
       "      <td>68.0</td>\n",
       "      <td>36.7</td>\n",
       "      <td>26</td>\n",
       "      <td>41</td>\n",
       "      <td>6.52</td>\n",
       "      <td>453.351155</td>\n",
       "      <td>26.7</td>\n",
       "      <td>9.8</td>\n",
       "      <td>4.06</td>\n",
       "      <td>9.5</td>\n",
       "      <td>44.5</td>\n",
       "    </tr>\n",
       "    <tr>\n",
       "      <th>2845</th>\n",
       "      <td>Zimbabwe</td>\n",
       "      <td>2002</td>\n",
       "      <td>Developing</td>\n",
       "      <td>125525.0</td>\n",
       "      <td>73.0</td>\n",
       "      <td>304</td>\n",
       "      <td>73.0</td>\n",
       "      <td>71.0</td>\n",
       "      <td>39.8</td>\n",
       "      <td>25</td>\n",
       "      <td>40</td>\n",
       "      <td>6.53</td>\n",
       "      <td>57.348340</td>\n",
       "      <td>26.3</td>\n",
       "      <td>1.2</td>\n",
       "      <td>4.43</td>\n",
       "      <td>10.0</td>\n",
       "      <td>44.8</td>\n",
       "    </tr>\n",
       "    <tr>\n",
       "      <th>2846</th>\n",
       "      <td>Zimbabwe</td>\n",
       "      <td>2001</td>\n",
       "      <td>Developing</td>\n",
       "      <td>12366165.0</td>\n",
       "      <td>76.0</td>\n",
       "      <td>529</td>\n",
       "      <td>76.0</td>\n",
       "      <td>75.0</td>\n",
       "      <td>42.1</td>\n",
       "      <td>25</td>\n",
       "      <td>39</td>\n",
       "      <td>6.16</td>\n",
       "      <td>548.587312</td>\n",
       "      <td>25.9</td>\n",
       "      <td>1.6</td>\n",
       "      <td>1.72</td>\n",
       "      <td>9.8</td>\n",
       "      <td>45.3</td>\n",
       "    </tr>\n",
       "    <tr>\n",
       "      <th>2847</th>\n",
       "      <td>Zimbabwe</td>\n",
       "      <td>2000</td>\n",
       "      <td>Developing</td>\n",
       "      <td>12222251.0</td>\n",
       "      <td>79.0</td>\n",
       "      <td>1483</td>\n",
       "      <td>78.0</td>\n",
       "      <td>78.0</td>\n",
       "      <td>43.5</td>\n",
       "      <td>24</td>\n",
       "      <td>39</td>\n",
       "      <td>7.10</td>\n",
       "      <td>547.358878</td>\n",
       "      <td>25.5</td>\n",
       "      <td>11.0</td>\n",
       "      <td>1.68</td>\n",
       "      <td>9.8</td>\n",
       "      <td>46.0</td>\n",
       "    </tr>\n",
       "  </tbody>\n",
       "</table>\n",
       "<p>2848 rows × 18 columns</p>\n",
       "</div>"
      ],
      "text/plain": [
       "          Country  Year      Status  Population  Hepatitis B  Measles  Polio  \\\n",
       "0     Afghanistan  2015  Developing  33736494.0         65.0     1154    6.0   \n",
       "1     Afghanistan  2014  Developing    327582.0         62.0      492   58.0   \n",
       "2     Afghanistan  2013  Developing  31731688.0         64.0      430   62.0   \n",
       "3     Afghanistan  2012  Developing   3696958.0         67.0     2787   67.0   \n",
       "4     Afghanistan  2011  Developing   2978599.0         68.0     3013   68.0   \n",
       "...           ...   ...         ...         ...          ...      ...    ...   \n",
       "2843     Zimbabwe  2004  Developing  12777511.0         68.0       31   67.0   \n",
       "2844     Zimbabwe  2003  Developing  12633897.0          7.0      998    7.0   \n",
       "2845     Zimbabwe  2002  Developing    125525.0         73.0      304   73.0   \n",
       "2846     Zimbabwe  2001  Developing  12366165.0         76.0      529   76.0   \n",
       "2847     Zimbabwe  2000  Developing  12222251.0         79.0     1483   78.0   \n",
       "\n",
       "      Diphtheria  HIV/AIDS  infant deaths  under-five deaths  \\\n",
       "0           65.0       0.1             62                 83   \n",
       "1           62.0       0.1             64                 86   \n",
       "2           64.0       0.1             66                 89   \n",
       "3           67.0       0.1             69                 93   \n",
       "4           68.0       0.1             71                 97   \n",
       "...          ...       ...            ...                ...   \n",
       "2843        65.0      33.6             27                 42   \n",
       "2844        68.0      36.7             26                 41   \n",
       "2845        71.0      39.8             25                 40   \n",
       "2846        75.0      42.1             25                 39   \n",
       "2847        78.0      43.5             24                 39   \n",
       "\n",
       "      Total expenditure         GDP   BMI  thinness  1-19 years  Alcohol  \\\n",
       "0                  8.16  584.259210  19.1                  17.2     0.01   \n",
       "1                  8.18  612.696514  18.6                  17.5     0.01   \n",
       "2                  8.13  631.744976  18.1                  17.7     0.01   \n",
       "3                  8.52  669.959000  17.6                  17.9     0.01   \n",
       "4                  7.87   63.537231  17.2                  18.2     0.01   \n",
       "...                 ...         ...   ...                   ...      ...   \n",
       "2843               7.13  454.366654  27.1                   9.4     4.36   \n",
       "2844               6.52  453.351155  26.7                   9.8     4.06   \n",
       "2845               6.53   57.348340  26.3                   1.2     4.43   \n",
       "2846               6.16  548.587312  25.9                   1.6     1.72   \n",
       "2847               7.10  547.358878  25.5                  11.0     1.68   \n",
       "\n",
       "      Schooling  Life expectancy  \n",
       "0          10.1             65.0  \n",
       "1          10.0             59.9  \n",
       "2           9.9             59.9  \n",
       "3           9.8             59.5  \n",
       "4           9.5             59.2  \n",
       "...         ...              ...  \n",
       "2843        9.2             44.3  \n",
       "2844        9.5             44.5  \n",
       "2845       10.0             44.8  \n",
       "2846        9.8             45.3  \n",
       "2847        9.8             46.0  \n",
       "\n",
       "[2848 rows x 18 columns]"
      ]
     },
     "execution_count": 25,
     "metadata": {},
     "output_type": "execute_result"
    }
   ],
   "source": [
    "df = pd.read_csv(\"life_expectancy.csv\")\n",
    "df"
   ]
  },
  {
   "cell_type": "markdown",
   "id": "0e2f0a51-789e-4526-8101-0134e1597615",
   "metadata": {},
   "source": [
    "<p dir=rtl style=\"direction: rtl; text-align: justify; line-height:200%; font-family:vazir; font-size:medium\">\n",
    "<font face=\"vazir\" size=3>\n",
    "    دیتاست به دو قسمت داده های آموزش و اعتبار سنجی تقسیم می‌شود.\n",
    "</font>\n",
    "</p>"
   ]
  },
  {
   "cell_type": "code",
   "execution_count": 26,
   "id": "fbb306fb-6733-45e6-a386-529b6044c380",
   "metadata": {
    "tags": []
   },
   "outputs": [],
   "source": [
    "data = df.drop(columns=[\"Life expectancy\"])\n",
    "target = df[\"Life expectancy\"]\n",
    "\n",
    "data_train, data_test, target_train, target_test = train_test_split(data, target, test_size=0.2, shuffle=True)"
   ]
  },
  {
   "cell_type": "markdown",
   "id": "d5b8211d-7700-4421-8e2b-637a84d5e53b",
   "metadata": {
    "tags": []
   },
   "source": [
    "<h2 align=right style=\"line-height:200%;font-family:vazir;color:#0099cc\">\n",
    "<font face=\"vazir\" color=\"#0099cc\">\n",
    "پیش پردازش\n",
    "</font>\n",
    "</h2>\n",
    "<p dir=rtl style=\"direction: rtl; text-align: justify; line-height:200%; font-family:vazir; font-size:medium\">\n",
    "<font face=\"vazir\" size=3>\n",
    "    برای کار بر روی داده ها ابتدا میباست بر روی آنها پیش پردازش انجام شود به صورتی که هیچ مقدار NaN در دیتاست موجود نباشد هم چنین تمامی ویژگی های دیتاست به صورت عددی باشند. در زیر تعداد مقادیر NaN هر ستون را قابل مشاهده می‌باشد.\n",
    "</font>\n",
    "</p>"
   ]
  },
  {
   "cell_type": "code",
   "execution_count": 27,
   "id": "f2ca8ba7-10d3-42da-b2c5-a29e493db048",
   "metadata": {
    "tags": []
   },
   "outputs": [
    {
     "data": {
      "text/plain": [
       "Country                   0\n",
       "Year                      0\n",
       "Status                    0\n",
       "Population              644\n",
       "Hepatitis B             542\n",
       "Measles                   0\n",
       "Polio                    19\n",
       "Diphtheria               19\n",
       "HIV/AIDS                  0\n",
       "infant deaths             0\n",
       "under-five deaths         0\n",
       "Total expenditure       221\n",
       "GDP                     442\n",
       "BMI                      32\n",
       "thinness  1-19 years     32\n",
       "Alcohol                 188\n",
       "Schooling               160\n",
       "Life expectancy           0\n",
       "dtype: int64"
      ]
     },
     "execution_count": 27,
     "metadata": {},
     "output_type": "execute_result"
    }
   ],
   "source": [
    "df.isna().sum()"
   ]
  },
  {
   "cell_type": "markdown",
   "id": "81780ee2-ad66-4d31-af38-d99a8decf5b5",
   "metadata": {
    "tags": []
   },
   "source": [
    "<p dir=rtl style=\"direction: rtl; text-align: justify; line-height:200%; font-family:vazir; font-size:medium\">\n",
    "<font face=\"vazir\" size=3>\n",
    "   همانطور که مشاهده می‌شود تعدادی از ستون ها دارای مقدرا NaN هستند در این پروژه برای پرکردن این مقادیر در هر ستون از میانگین ستون بر اساس دسته بندی کشور ها استفاده شده است. از آنجایی که ممکن است بعد از انجام این کار هنوز با مقادیر NaN مواجه باشیم، برای پر کردن ستون هایی که هنوز مقدار آنها NaN می‌باشد از میانه ستون استفاده شده، در انتها ستون های اسمی به عددی تبدیل شده است . \n",
    "</font>\n",
    "</p>"
   ]
  },
  {
   "cell_type": "code",
   "execution_count": 28,
   "id": "b9d3b668-8e56-4bb6-a60d-d366d145b7da",
   "metadata": {
    "tags": []
   },
   "outputs": [],
   "source": [
    "def mean_1(data):\n",
    "    col_na = data.isna().sum()[data.isna().sum() > 0].index.to_list()\n",
    "    for item in col_na:\n",
    "        mean = data.groupby(\"Country\")[item].transform(\"mean\")\n",
    "        data[item].fillna(mean, inplace=True)\n",
    "\n",
    "def median_1(data):\n",
    "    col_na = data.isna().sum()[data.isna().sum() > 0].index.to_list()\n",
    "    for item in col_na:\n",
    "        median = data[item].median()\n",
    "        data[item].fillna(median, inplace=True)\n",
    "\n",
    "pre = [data_train, data_test]\n",
    "\n",
    "for dataset in pre:\n",
    "    mean_1(dataset)\n",
    "    median_1(dataset)\n",
    "    dataset.set_index(\"Country\", inplace=True)\n",
    "    dataset.replace({\"Developed\": 0, \"Developing\": 1}, inplace=True)"
   ]
  },
  {
   "cell_type": "code",
   "execution_count": 31,
   "id": "bc02ebb0-44c5-4ca0-b1ab-ec7ffefa4c91",
   "metadata": {
    "tags": []
   },
   "outputs": [
    {
     "data": {
      "text/plain": [
       "Year                    0\n",
       "Status                  0\n",
       "Population              0\n",
       "Hepatitis B             0\n",
       "Measles                 0\n",
       "Polio                   0\n",
       "Diphtheria              0\n",
       "HIV/AIDS                0\n",
       "infant deaths           0\n",
       "under-five deaths       0\n",
       "Total expenditure       0\n",
       "GDP                     0\n",
       "BMI                     0\n",
       "thinness  1-19 years    0\n",
       "Alcohol                 0\n",
       "Schooling               0\n",
       "dtype: int64"
      ]
     },
     "execution_count": 31,
     "metadata": {},
     "output_type": "execute_result"
    }
   ],
   "source": [
    "data_train.isna().sum()"
   ]
  },
  {
   "cell_type": "code",
   "execution_count": 32,
   "id": "c31f0916-15fe-468d-9208-a74d63c1edec",
   "metadata": {
    "tags": []
   },
   "outputs": [
    {
     "data": {
      "text/plain": [
       "Year                    0\n",
       "Status                  0\n",
       "Population              0\n",
       "Hepatitis B             0\n",
       "Measles                 0\n",
       "Polio                   0\n",
       "Diphtheria              0\n",
       "HIV/AIDS                0\n",
       "infant deaths           0\n",
       "under-five deaths       0\n",
       "Total expenditure       0\n",
       "GDP                     0\n",
       "BMI                     0\n",
       "thinness  1-19 years    0\n",
       "Alcohol                 0\n",
       "Schooling               0\n",
       "dtype: int64"
      ]
     },
     "execution_count": 32,
     "metadata": {},
     "output_type": "execute_result"
    }
   ],
   "source": [
    "data_test.isna().sum()"
   ]
  },
  {
   "cell_type": "markdown",
   "id": "8de3c86a-56e3-4f75-bf33-85ea7e4f2664",
   "metadata": {
    "tags": []
   },
   "source": [
    "<p dir=rtl style=\"direction: rtl; text-align: justify; line-height:200%; font-family:vazir; font-size:medium\">\n",
    "<font face=\"vazir\" size=3>\n",
    "بعنوان آخرین گام در مرحله پیش پردازش داده ها هم مقیاس می‌شوند. \n",
    "</font>\n",
    "</p>"
   ]
  },
  {
   "cell_type": "code",
   "execution_count": 36,
   "id": "48c01a38-237a-437d-8095-905d86b6612b",
   "metadata": {
    "tags": []
   },
   "outputs": [],
   "source": [
    "scaler = StandardScaler()\n",
    "data_train = scaler.fit_transform(data_train)\n",
    "data_test = scaler.transform(data_test)"
   ]
  },
  {
   "cell_type": "markdown",
   "id": "3a725144-a378-44d2-a50f-8abc6004f7e1",
   "metadata": {
    "tags": []
   },
   "source": [
    "<h2 align=right style=\"line-height:200%;font-family:vazir;color:#0099cc\">\n",
    "<font face=\"vazir\" color=\"#0099cc\">\n",
    "مدلسازی\n",
    "</font>\n",
    "</h2>\n",
    "<p dir=rtl style=\"direction: rtl; text-align: justify; line-height:200%; font-family:vazir; font-size:medium\">\n",
    "<font face=\"vazir\" size=3>\n",
    "حال که پاکسازی و پردازش داده ها انجام شده، برای پیش بینی متغیر هدف که همان امید به زندگی در کشورها می‌باشد از رگرسیون خطی استفاده می‌کنیم. \n",
    "</font>\n",
    "</p>"
   ]
  },
  {
   "cell_type": "code",
   "execution_count": 43,
   "id": "1bd9710a-852e-4713-994c-74c7026d8c6e",
   "metadata": {
    "tags": []
   },
   "outputs": [
    {
     "data": {
      "text/plain": [
       "0.7828253643662446"
      ]
     },
     "execution_count": 43,
     "metadata": {},
     "output_type": "execute_result"
    }
   ],
   "source": [
    "model = LinearRegression()\n",
    "model.fit(data_train, target_train)\n",
    "y_pred = model.predict(data_test)\n",
    "\n",
    "r2_score(target_test, y_pred)"
   ]
  },
  {
   "cell_type": "markdown",
   "id": "c5c24648-c325-40ab-bd95-31187449895c",
   "metadata": {},
   "source": [
    "<p dir=rtl style=\"direction: rtl; text-align: justify; line-height:200%; font-family:vazir; font-size:medium\">\n",
    "<font face=\"vazir\" size=3>\n",
    "پس از مدلسازی و آموزش مدل برای ارزیابی عملکرد مدل از معیار r2_score استفاده شده است. همان طور که مشاهده می‌شود معیار مقدار مطلوبی را خروجی نمی‌دهد، فلذا این بار از رگرسیون چند جمله ای برای مدل سازی استفاده می‌شود. \n",
    "</font>\n",
    "</p>"
   ]
  },
  {
   "cell_type": "code",
   "execution_count": 45,
   "id": "fda51260-90ae-4b0a-9223-fc067a6c862a",
   "metadata": {
    "tags": []
   },
   "outputs": [
    {
     "data": {
      "text/plain": [
       "0.8510356747521552"
      ]
     },
     "execution_count": 45,
     "metadata": {},
     "output_type": "execute_result"
    }
   ],
   "source": [
    "poly_transformer = PolynomialFeatures()\n",
    "\n",
    "poly = poly_transformer.fit(data_train)\n",
    "poly_features = poly.transform(data_train)\n",
    "test_poly_features = poly_transformer.transform(data_test)\n",
    "\n",
    "model_new = LinearRegression()\n",
    "model_new.fit(poly_features, target_train)\n",
    "y_pred_1 = model_new.predict(test_poly_features)\n",
    "\n",
    "r2_score(target_test, y_pred_1)"
   ]
  },
  {
   "cell_type": "markdown",
   "id": "ccfcbe81-1bdb-49d3-bb2f-a3d8c0641b6e",
   "metadata": {},
   "source": [
    "<p dir=rtl style=\"direction: rtl; text-align: justify; line-height:200%; font-family:vazir; font-size:medium\">\n",
    "<font face=\"vazir\" size=3>\n",
    "همان طور که مشاهده می‌شود عملکرد مدل با استفاده از رگرسیون چند جمله ای افزایش می‌یابد. \n",
    "</font>\n",
    "</p>"
   ]
  }
 ],
 "metadata": {
  "kernelspec": {
   "display_name": "Python 3 (ipykernel)",
   "language": "python",
   "name": "python3"
  },
  "language_info": {
   "codemirror_mode": {
    "name": "ipython",
    "version": 3
   },
   "file_extension": ".py",
   "mimetype": "text/x-python",
   "name": "python",
   "nbconvert_exporter": "python",
   "pygments_lexer": "ipython3",
   "version": "3.11.4"
  }
 },
 "nbformat": 4,
 "nbformat_minor": 5
}
